{
 "cells": [
  {
   "cell_type": "markdown",
   "metadata": {},
   "source": [
    "# Problem 1.6\n",
    "\n",
    "### Preambles\n",
    "First, import packages needed and load datasets from files."
   ]
  },
  {
   "cell_type": "code",
   "execution_count": 1,
   "metadata": {},
   "outputs": [],
   "source": [
    "import numpy as np\n",
    "import pandas as pd\n",
    "import scipy.io as sio\n",
    "\n",
    "V = sio.loadmat('wordVecV.mat')['V']"
   ]
  },
  {
   "cell_type": "markdown",
   "metadata": {},
   "source": [
    "As we can see the shape and summary of the data as follow:"
   ]
  },
  {
   "cell_type": "code",
   "execution_count": 2,
   "metadata": {},
   "outputs": [
    {
     "name": "stdout",
     "output_type": "stream",
     "text": [
      "Summary of V: \n",
      " [[0. 0. 0. ... 0. 0. 0.]\n",
      " [0. 0. 0. ... 0. 0. 0.]\n",
      " [1. 0. 0. ... 0. 0. 0.]\n",
      " ...\n",
      " [0. 0. 0. ... 0. 0. 0.]\n",
      " [0. 0. 0. ... 0. 0. 0.]\n",
      " [1. 0. 0. ... 0. 0. 0.]]\n",
      "Shape of V:  (1651, 10)\n"
     ]
    }
   ],
   "source": [
    "print('Summary of V: \\n', V)\n",
    "print('Shape of V: ', V.shape)"
   ]
  },
  {
   "cell_type": "markdown",
   "metadata": {},
   "source": [
    "### (a)\n",
    "\n",
    "Define the function for computing the minimum_distance pair:"
   ]
  },
  {
   "cell_type": "code",
   "execution_count": 3,
   "metadata": {},
   "outputs": [],
   "source": [
    "from scipy.spatial import distance\n",
    "\n",
    "def find_min_pairs(V, metric = 'euclidean'):\n",
    "    \n",
    "    # Compute distancematrix with repect to d:\n",
    "    if metric == 'euclidean':\n",
    "        dist_m= distance.cdist(V.T, V.T)\n",
    "    elif metric == 'angle':\n",
    "        # angle distance is equivalent to 'cosine' metric in scipy\n",
    "        dist_m = distance.cdist(V.T, V.T, metric='cosine')\n",
    "    else:\n",
    "        raise ValueError(\"invalid metric!\")\n",
    "    \n",
    "    # Make the distance matrix as triangled (zero-repalcing)\n",
    "    # to leave unique pair;\n",
    "    # Make the diagonal value cv vvas 0 to avoid computation error.\n",
    "    dist_m = np.tril(dist_m)\n",
    "    for i in range(len(dist_m)):\n",
    "        dist_m[i, i] = 0.0\n",
    "    \n",
    "    # find the minimum value within each other and it's pair:\n",
    "    min_dist = np.amin(dist_m[np.nonzero(dist_m)])\n",
    "    min_index = np.where(dist_m == min_dist)\n",
    "    \n",
    "    return min_index\n",
    "\n",
    "# Auxiliray function for print pairs\n",
    "\n",
    "def print_pairs(pairs):\n",
    "    for i in range(len(pairs[0])):        \n",
    "        # given the index stated from 1\n",
    "        print(\"Article No.%d and Articale No.%d.\" % (pairs[0][i] + 1, pairs[1][i] + 1))\n"
   ]
  },
  {
   "cell_type": "markdown",
   "metadata": {},
   "source": [
    "Where the order of angle distance is euqivalent to 'cosine' metric of Scipy package, since it computes distance as:\n",
    "\n",
    "$$1 - \\frac{u\\cdot v}{\\left \\| u \\right \\|_{2}\\left \\| v \\right \\|_{2}}$$\n",
    "\n",
    "which the equivalence can be proved with the mononically deceasing of arccos function"
   ]
  },
  {
   "cell_type": "code",
   "execution_count": 4,
   "metadata": {},
   "outputs": [
    {
     "name": "stdout",
     "output_type": "stream",
     "text": [
      "All of posible euclid_minimum pairs: \n",
      "Article No.8 and Articale No.7.\n",
      "\n",
      "All pairs of posible angle_minimum pairs: \n",
      "Article No.10 and Articale No.9.\n"
     ]
    }
   ],
   "source": [
    "min_pairs_euclid = find_min_pairs(V, metric = 'euclidean')\n",
    "min_pairs_angle = find_min_pairs(V, metric = 'angle')\n",
    "\n",
    "# print all posible distance pairs (redundent) of minimum index\n",
    "print(\"All of posible euclid_minimum pairs: \")\n",
    "print_pairs(min_pairs_euclid)\n",
    "print()\n",
    "# print all posible distance pairs (redundent) of minimum index\n",
    "print(\"All pairs of posible angle_minimum pairs: \")\n",
    "print_pairs(min_pairs_angle)"
   ]
  },
  {
   "cell_type": "markdown",
   "metadata": {},
   "source": [
    "Thus, smallest distance pair is not same as samllest angle pair. The reason why is that the nearest distance neighbour and nearest angle neighbour of a vector to a vector set can be different, according to problem1.5."
   ]
  },
  {
   "cell_type": "markdown",
   "metadata": {},
   "source": [
    "### (b)\n",
    "\n",
    "Now just create the normalized vectors set."
   ]
  },
  {
   "cell_type": "code",
   "execution_count": 5,
   "metadata": {},
   "outputs": [],
   "source": [
    "V_n = V.copy()\n",
    "V_n = V_n / np.sum(V_n, axis=0)"
   ]
  },
  {
   "cell_type": "markdown",
   "metadata": {},
   "source": [
    "Find cloest pair with normalized vectors."
   ]
  },
  {
   "cell_type": "code",
   "execution_count": 6,
   "metadata": {},
   "outputs": [
    {
     "name": "stdout",
     "output_type": "stream",
     "text": [
      "All of posible euclid_minimum pairs with normalization: \n",
      "Article No.10 and Articale No.9.\n",
      "\n",
      "All of posible angle_minimum pairs with normalization: \n",
      "Article No.10 and Articale No.9.\n"
     ]
    }
   ],
   "source": [
    "min_pairs_euclid_n = find_min_pairs(V_n, metric = 'euclidean')\n",
    "min_pairs_angle_n = find_min_pairs(V_n, metric = 'angle')\n",
    "\n",
    "# print all posible distance pairs (redundent) of minimum index\n",
    "print(\"All of posible euclid_minimum pairs with normalization: \")\n",
    "print_pairs(min_pairs_euclid_n)\n",
    "print()\n",
    "# print all posible distance pairs (redundent) of minimum index\n",
    "print(\"All of posible angle_minimum pairs with normalization: \")\n",
    "print_pairs(min_pairs_angle_n)"
   ]
  },
  {
   "cell_type": "markdown",
   "metadata": {},
   "source": [
    "As we can see, angle closest pair and euclid closest pair is the same. Because all the normalized vectors has normalized. \n",
    "\n",
    "To use this kind of normalization can lead to a easier objective results."
   ]
  },
  {
   "cell_type": "markdown",
   "metadata": {},
   "source": [
    "### (c)\n"
   ]
  },
  {
   "cell_type": "markdown",
   "metadata": {},
   "source": [
    "Compute the $w(t,d)$ and excute the minimum pair search:"
   ]
  },
  {
   "cell_type": "code",
   "execution_count": 7,
   "metadata": {},
   "outputs": [
    {
     "name": "stdout",
     "output_type": "stream",
     "text": [
      "Posible pairs of closest TF-IDF: \n",
      "Article No.10 and Articale No.9.\n"
     ]
    }
   ],
   "source": [
    "doc_freq = (V > 0).sum(axis = 1)\n",
    "w = V_n * np.sqrt(np.log(10 / doc_freq)).reshape(-1, 1)\n",
    "\n",
    "min_pairs_euclid_w = find_min_pairs(w, metric = 'euclidean')\n",
    "\n",
    "print(\"Posible pairs of closest TF-IDF: \")\n",
    "print_pairs(min_pairs_euclid_w)"
   ]
  },
  {
   "cell_type": "markdown",
   "metadata": {},
   "source": [
    "### (d)"
   ]
  },
  {
   "cell_type": "markdown",
   "metadata": {},
   "source": [
    "The higher *inverse document frequency* we get, the less frequency of a specific word that exist in entire document, which shows the word has more ability to identify different articles. \n",
    "\n",
    "Geometrically, Vectors that have more similarity (in number) with a specific word will become closer in vector space."
   ]
  }
 ],
 "metadata": {
  "kernelspec": {
   "display_name": "Python 3",
   "language": "python",
   "name": "python3"
  },
  "language_info": {
   "codemirror_mode": {
    "name": "ipython",
    "version": 3
   },
   "file_extension": ".py",
   "mimetype": "text/x-python",
   "name": "python",
   "nbconvert_exporter": "python",
   "pygments_lexer": "ipython3",
   "version": "3.7.4"
  }
 },
 "nbformat": 4,
 "nbformat_minor": 2
}
