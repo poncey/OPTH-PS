{
 "cells": [
  {
   "cell_type": "markdown",
   "metadata": {},
   "source": [
    "### (d)\n",
    "\n",
    "Implement the closed-form problem with cvxpy in python."
   ]
  },
  {
   "cell_type": "code",
   "execution_count": 1,
   "metadata": {},
   "outputs": [
    {
     "name": "stdout",
     "output_type": "stream",
     "text": [
      "Projection of l2-norm: \n",
      "Optimal y is: [-3.37931034 -0.55172414]\n"
     ]
    }
   ],
   "source": [
    "import cvxpy as cvx\n",
    "import numpy as np\n",
    "\n",
    "def proj_cvx(x, v0, v, nrm):\n",
    "    \n",
    "    func = lambda y: cvx.norm(x - y, nrm)\n",
    "    \n",
    "    y = cvx.Variable(2)\n",
    "    t = cvx.Variable(1)\n",
    "    \n",
    "    objtv = cvx.Minimize(func(y))\n",
    "    constraint = [v0 + t * v == y]\n",
    "    \n",
    "    prob = cvx.Problem(objtv, constraint)\n",
    "    prob.solve()\n",
    "    \n",
    "    print(\"Optimal y is:\", y.value)\n",
    "    \n",
    "    return prob, y.value\n",
    "\n",
    "x = np.array([3, 2])\n",
    "v0 = np.array([-2, -4])\n",
    "v = np.array([-2, 5])\n",
    "\n",
    "print(\"Projection of l2-norm: \")\n",
    "_ = proj_cvx(x, v0, v, 2)"
   ]
  },
  {
   "cell_type": "markdown",
   "metadata": {},
   "source": [
    "Hence, Optimal $y$ (*i.e.* projection of l2-nrom in this case) is verified as above."
   ]
  },
  {
   "cell_type": "markdown",
   "metadata": {},
   "source": [
    "### (e)\n",
    "\n",
    "l1 norm and l-infinity norm as follow:"
   ]
  },
  {
   "cell_type": "code",
   "execution_count": 2,
   "metadata": {},
   "outputs": [
    {
     "name": "stdout",
     "output_type": "stream",
     "text": [
      "Projection of l1-norm: \n",
      "Optimal y is: [-4.4  2. ]\n",
      "Projection of l-infinity-norm: \n",
      "Optimal y is: [-2.28571429 -3.28571429]\n"
     ]
    }
   ],
   "source": [
    "print(\"Projection of l1-norm: \")\n",
    "_ = proj_cvx(x, v0, v, 1)\n",
    "\n",
    "print(\"Projection of l-infinity-norm: \")\n",
    "_ = proj_cvx(x, v0, v, np.inf)"
   ]
  },
  {
   "cell_type": "markdown",
   "metadata": {},
   "source": [
    "Hence Optimal $y$ (*i.e.* projection of l1-norm or l-infinity-nrom in this case) are verified as above."
   ]
  }
 ],
 "metadata": {
  "kernelspec": {
   "display_name": "Python 3",
   "language": "python",
   "name": "python3"
  },
  "language_info": {
   "codemirror_mode": {
    "name": "ipython",
    "version": 3
   },
   "file_extension": ".py",
   "mimetype": "text/x-python",
   "name": "python",
   "nbconvert_exporter": "python",
   "pygments_lexer": "ipython3",
   "version": "3.7.4"
  }
 },
 "nbformat": 4,
 "nbformat_minor": 2
}
