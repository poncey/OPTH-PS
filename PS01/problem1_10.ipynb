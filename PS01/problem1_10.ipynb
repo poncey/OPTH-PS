{
 "cells": [
  {
   "cell_type": "markdown",
   "metadata": {},
   "source": [
    "# Problem 1.10\n",
    "\n",
    "### (a)\n",
    "\n",
    "Establish utilities for computing Gram-schmidt. "
   ]
  },
  {
   "cell_type": "code",
   "execution_count": 1,
   "metadata": {},
   "outputs": [],
   "source": [
    "import sympy as sp\n",
    "import numpy as np\n",
    "from sympy.abc import x\n",
    "\n",
    "lowerbound = -np.pi\n",
    "upperbound = np.pi\n",
    "\n",
    "def intgrt(f, upper, lower):\n",
    "    \n",
    "    F = sp.lambdify(x, sp.integrate(f, x), 'numpy')\n",
    "    \n",
    "    return F(upper) - F(lower)\n",
    "\n",
    "def inprod(f, g):\n",
    "    return intgrt(f * g , upperbound, lowerbound)\n",
    "\n",
    "def normf(f):\n",
    "    return np.sqrt(inprod(f, f))"
   ]
  },
  {
   "cell_type": "markdown",
   "metadata": {},
   "source": [
    "Computing Gram-Schmidt.\n",
    "\n",
    "for $\\left \\{ v^{(0)} \\ v^{(1)} \\ v^{(2)} \\ v^{(3)} \\ v^{(4)} \\ v^{(5)}\\right \\} = \\left \\{ 1 \\ x \\ x^{2}  \\ x^{3} \\ x^{4} \\ x^{5} \\right \\}$:\n",
    "\n",
    "general format:\n",
    "\n",
    "$$\\begin{matrix}\n",
    "e^{(0)} = \\frac{v^{(0)}}{\\left \\| v^{(0)} \\right \\|}\\\\ \\\\ \n",
    "\\beta ^{(k)} = v^{(k)} - \\left \\langle v^{(k)}, e^{(k-1)} \\right \\rangle e^{(k-1)} - \\left \\langle v^{(k)}, e^{(k-2)} \\right \\rangle e^{(k-2)}- ... -\\left \\langle v^{(k)}, e^{(1)} \\right \\rangle e^{(1)},\\ e^{(k)}=\\frac{\\beta^{(k)}}{\\left \\| \\beta^{(k)} \\right \\|}\\\\\n",
    "\\end{matrix}$$\n"
   ]
  },
  {
   "cell_type": "code",
   "execution_count": 2,
   "metadata": {},
   "outputs": [
    {
     "name": "stdout",
     "output_type": "stream",
     "text": [
      "Content of e(0):  0.398942280401433\n",
      "Content of e(1):  0.219948406790773*x\n",
      "Content of e(2):  0.135577175410079*x**2 - 0.446031029038192\n",
      "Content of e(3):  0.0851039026947903*x**3 - 0.50396511155183*x\n",
      "Content of e(4):  0.0537538886225847*x**4 - 0.454739670621537*x**2 + 0.44881006545162\n",
      "Content of e(5):  0.0340492544849671*x**5 - 0.373391857687381*x**3 + 0.789692126134784*x\n"
     ]
    }
   ],
   "source": [
    "v= [x ** i for i in range(0, 6)]\n",
    "\n",
    "\n",
    "# ===========================================================\n",
    "# Function to compute Gram-Schmidt\n",
    "# ===========================================================\n",
    "def gram_schmidt(vectors):\n",
    "    \n",
    "    basis = []\n",
    "    for vector in vectors:\n",
    "        beta = vector - sum(inprod(vector, e) * e for e in basis)\n",
    "        basis.append(beta / normf(beta))\n",
    "    return basis\n",
    "\n",
    "\n",
    "basis = gram_schmidt(v)\n",
    "\n",
    "for i in range(len(basis)):\n",
    "    print('Content of e(%d): ' %i, basis[i])"
   ]
  },
  {
   "cell_type": "markdown",
   "metadata": {},
   "source": [
    "### (b)\n",
    "\n",
    "Since $\\left \\{ e^{(0)} \\ e^{(1)} \\ e^{(2)} \\ e^{(3)} \\ e^{(4)} \\ e^{(5)}\\right \\}$ are orthogonal basis, then:\n",
    "\n",
    "$$Proj_U(g) =\\sum_{k = 0}^{5}Proj_{e^{(k)}}(g)$$ .\n",
    "\n",
    "Where $Proj_{e^{(k)}}(g) = \\frac{\\left \\langle g, e^{(k)} \\right \\rangle}{\\left \\| e^{(k)} \\right \\|}e^{(k)} = \\left \\langle g, e^{(k)} \\right \\rangle e^{(k)}$."
   ]
  },
  {
   "cell_type": "code",
   "execution_count": 5,
   "metadata": {},
   "outputs": [
    {
     "name": "stdout",
     "output_type": "stream",
     "text": [
      "Projection of g onto polynomial function space U is: \n",
      " 0.0056431179763544*x**5 - 0.155271410633512*x**3 + 0.987862135574851*x\n"
     ]
    }
   ],
   "source": [
    "g = sp.sin(x)\n",
    "proj_g = sum(inprod(g, e) * e for e in basis)\n",
    "print('Projection of g onto polynomial function space U is: \\n', proj_g)"
   ]
  },
  {
   "cell_type": "markdown",
   "metadata": {},
   "source": [
    "### (c)\n",
    "\n",
    "All the even coefficients are zero. The reason is that $\\sin(x)$ is an odd function, it should not contain any even polynomial pattern in approximation decomposition."
   ]
  },
  {
   "cell_type": "markdown",
   "metadata": {},
   "source": [
    "### (d)\n",
    "\n",
    "Plot the inner-product space approximation and Taylor approximation as follow: "
   ]
  },
  {
   "cell_type": "code",
   "execution_count": 6,
   "metadata": {},
   "outputs": [
    {
     "data": {
      "image/png": "[encoded data removed]",
      "text/plain": [
       "<Figure size 432x288 with 1 Axes>"
      ]
     },
     "metadata": {},
     "output_type": "display_data"
    }
   ],
   "source": [
    "import matplotlib.pyplot as plt\n",
    "\n",
    "xx = np.linspace(lowerbound, upperbound, 1000)\n",
    "\n",
    "apprx_taylor = xx - xx ** 3 / np.math.factorial(3) + xx ** 5 / np.math.factorial(5)\n",
    "apprx_inpro = sp.lambdify(x, proj_g, 'numpy')(xx)\n",
    "\n",
    "plt.style.use('fivethirtyeight')\n",
    "plt.figure(figsize=(6, 4))\n",
    "plt.plot(xx, apprx_taylor, label='Taylor', lw=1.8)\n",
    "plt.plot(xx, apprx_inpro, label='Inner Product', lw=1.8)\n",
    "leg = plt.legend(loc='lower right', fontsize='medium')"
   ]
  },
  {
   "cell_type": "markdown",
   "metadata": {},
   "source": [
    "As we can see, inner product approximation is apperently better than the taylor approximation. The performance of Taylor is inaccurate when $\\sin(x)$ function descends, and accurate when function ascend. The difference may be that inner production make approximation to determinated polynomial function.By contrast, Taylor is infinite, while the high order infinitesimal still leverage the approximation results."
   ]
  }
 ],
 "metadata": {
  "kernelspec": {
   "display_name": "Python 3",
   "language": "python",
   "name": "python3"
  },
  "language_info": {
   "codemirror_mode": {
    "name": "ipython",
    "version": 3
   },
   "file_extension": ".py",
   "mimetype": "text/x-python",
   "name": "python",
   "nbconvert_exporter": "python",
   "pygments_lexer": "ipython3",
   "version": "3.7.4"
  }
 },
 "nbformat": 4,
 "nbformat_minor": 2
}
