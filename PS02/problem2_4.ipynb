{
 "cells": [
  {
   "cell_type": "markdown",
   "metadata": {},
   "source": [
    "# Problem 2.4\n",
    "\n",
    "\n",
    "First, import necessary pakages and `.mat` data."
   ]
  },
  {
   "cell_type": "code",
   "execution_count": 1,
   "metadata": {},
   "outputs": [],
   "source": [
    "import numpy as np\n",
    "from numpy.linalg import norm, inv\n",
    "import scipy.io as sio\n",
    "import pandas as pd\n",
    "import matplotlib\n",
    "import matplotlib.pyplot as plt\n",
    "\n",
    "J = sio.loadmat('./data/pagerank_adj.mat')['J']\n",
    "urls = pd.read_csv('./data/pagerank_urls.txt', header=None)"
   ]
  },
  {
   "cell_type": "markdown",
   "metadata": {},
   "source": [
    "Convert the adjacency matrix `J` to like matrix `A`, and create vector `x` with all entries equal to one."
   ]
  },
  {
   "cell_type": "code",
   "execution_count": 2,
   "metadata": {},
   "outputs": [],
   "source": [
    "A = J / J.sum(axis=0, keepdims=True)\n",
    "N = A.shape[0]\n",
    "x = np.ones(N).reshape(-1, 1)"
   ]
  },
  {
   "cell_type": "markdown",
   "metadata": {},
   "source": [
    "## (a)"
   ]
  },
  {
   "cell_type": "markdown",
   "metadata": {},
   "source": [
    "Verify that wether all the sum of columns are equal to one. "
   ]
  },
  {
   "cell_type": "code",
   "execution_count": 3,
   "metadata": {},
   "outputs": [
    {
     "name": "stdout",
     "output_type": "stream",
     "text": [
      "All the sum of columns are equal to one\n"
     ]
    }
   ],
   "source": [
    "# Since there are some computation error in division,\n",
    "# we use np.allclose to get the result.\n",
    "if np.allclose(A.sum(axis=0), np.ones(N), rtol=1e-06, atol=1e-08):\n",
    "    print('All the sum of columns are equal to one')"
   ]
  },
  {
   "cell_type": "markdown",
   "metadata": {},
   "source": [
    "The property of matrix `A` is called *column-stochastic.* Its all entries are non-negative and the sum of the entries in each column is equal to one. This makes sure that each page has at least one out-going link."
   ]
  },
  {
   "cell_type": "markdown",
   "metadata": {},
   "source": [
    "## (b)\n"
   ]
  },
  {
   "cell_type": "markdown",
   "metadata": {},
   "source": [
    "Function to implement the pow method which depends on iteration as follow."
   ]
  },
  {
   "cell_type": "code",
   "execution_count": 4,
   "metadata": {},
   "outputs": [],
   "source": [
    "### =====================================\n",
    "### Function for executing power method.\n",
    "### Return the result x(k + 1) \n",
    "### lambda_ and error e(k + 1) \n",
    "### as lists of k iterations.\n",
    "### =====================================\n",
    "def pow_iter(matrix, x_iter, iteration=10):\n",
    "    \n",
    "    # convert as matrix\n",
    "    matrix = np.matrix(matrix)\n",
    "    x_iter = np.matrix(x_iter)\n",
    "    \n",
    "    x_list, lamb_list, e_list = [], [], []\n",
    "    \n",
    "    for k in range(iteration):\n",
    "        y = matrix * x_iter # y(k + 1)\n",
    "        x_iter = y / norm(y, ord=2) # x(k + 1)\n",
    "        lamb = x_iter.H * A * x_iter # lambda(k + 1)\n",
    "        \n",
    "        # convert back and append\n",
    "        x_list.append(np.asarray(x_iter))\n",
    "        lamb_list.append(lamb.item())\n",
    "        e_list.append(norm(matrix * x_iter - x_iter, ord=2))\n",
    "    \n",
    "    return x_list, lamb_list, e_list"
   ]
  },
  {
   "cell_type": "markdown",
   "metadata": {},
   "source": [
    "Compute as $k = 10$ and plot the $e(k + 1)$ versus $k$ as follow:"
   ]
  },
  {
   "cell_type": "code",
   "execution_count": 5,
   "metadata": {},
   "outputs": [
    {
     "data": {
      "image/png": "[encoded data removed]",
      "text/plain": [
       "<Figure size 518.4x388.8 with 1 Axes>"
      ]
     },
     "metadata": {},
     "output_type": "display_data"
    }
   ],
   "source": [
    "_, _, el = pow_iter(A, x, iteration=10)\n",
    "\n",
    "# Plot the error results\n",
    "matplotlib.rcParams.update({'font.size': 16})\n",
    "plt.style.use('seaborn-whitegrid')\n",
    "plt.figure(figsize=(7.2, 5.4))\n",
    "plt.plot(np.arange(len(el)) + 1, np.log(np.asarray(el)), lw=2.)\n",
    "xlab = plt.xlabel('k')\n",
    "ylab = plt.ylabel('e(k + 1)')"
   ]
  },
  {
   "cell_type": "markdown",
   "metadata": {},
   "source": [
    "The above plot is the $\\log(e(e + 1))$ versus $k$ with 10 iterations"
   ]
  },
  {
   "cell_type": "markdown",
   "metadata": {},
   "source": [
    "## (c)"
   ]
  },
  {
   "cell_type": "markdown",
   "metadata": {},
   "source": [
    "Now we first construct the function of shift-invert power method and make implementation"
   ]
  },
  {
   "cell_type": "code",
   "execution_count": 6,
   "metadata": {},
   "outputs": [],
   "source": [
    "### =====================================\n",
    "### Function for shift-invert power method.\n",
    "### Return the result x(k + 1) \n",
    "### lambda_ and error e(k + 1) \n",
    "### as lists of k iterations.\n",
    "### =====================================\n",
    "def shiftinv_pow(matrix, x_iter, sigma, iteration=10):\n",
    "    \n",
    "    # Convert as matrix. Creart identity\n",
    "    matrix = np.matrix(matrix)\n",
    "    x_iter = np.matrix(x_iter)\n",
    "    iden = np.matrix(np.identity(N))\n",
    "    \n",
    "    x_list, lamb_list, e_list = [], [], []\n",
    "\n",
    "    for k in range(iteration):\n",
    "        y = (matrix - sigma * iden).I * x_iter # y(k + 1)\n",
    "        x_iter = y / norm(y, ord=2) # x(k + 1)\n",
    "        lamb = x_iter.H * matrix * x_iter # lambda(k + 1)\n",
    "        \n",
    "        # convert back and append\n",
    "        x_list.append(np.asarray(x_iter))\n",
    "        lamb_list.append(lamb.item())\n",
    "        e_list.append(norm(matrix * x_iter - x_iter, ord=2))\n",
    "    \n",
    "    return x_list, lamb_list, e_list\n",
    "\n",
    "# Compute the error of shift-invert power methods with 10 iterations\n",
    "xl_shiftinv, lambl_shiftinv, el_shiftinv = shiftinv_pow(A, x, sigma=.99, iteration=10)"
   ]
  },
  {
   "cell_type": "markdown",
   "metadata": {},
   "source": [
    "Then, construct the function of Rayleigh quotient iteration and make implementation."
   ]
  },
  {
   "cell_type": "code",
   "execution_count": 7,
   "metadata": {},
   "outputs": [],
   "source": [
    "### =====================================\n",
    "### Function for Rayleigh quotient.\n",
    "### Return the result x(k + 1) \n",
    "### lambda_ and error e(k + 1) \n",
    "### as lists of k iterations.\n",
    "### =====================================\n",
    "def rayleigh_iter(matrix, x_iter, sigma_iter, iteration=10):\n",
    "    \n",
    "    # Convert as matrix. Creart identity\n",
    "    matrix = np.matrix(matrix)\n",
    "    x_iter = np.matrix(x_iter)\n",
    "    iden = np.matrix(np.identity(N))\n",
    "    # Computer for iteration\n",
    "    x_list, lamb_list, e_list = [], [], []\n",
    "\n",
    "    for k in range(iteration):\n",
    "        \n",
    "        if k < 2:\n",
    "            sigma = sigma_iter\n",
    "        else:            \n",
    "            sigma =  ((x_iter.H * matrix * x_iter) / (x_iter.H * x_iter)).item()\n",
    "        \n",
    "        y = (matrix - sigma * iden).I * x_iter # y(k + 1)\n",
    "        x_iter = y / norm(y, ord=2) # x(k + 1)\n",
    "        lamb = x_iter.H * matrix * x_iter # lambda(k + 1)\n",
    "        \n",
    "        # convert back and append\n",
    "        x_list.append(np.asarray(x_iter))\n",
    "        lamb_list.append(lamb.item())\n",
    "        e_list.append(norm(matrix * x_iter - x_iter, ord=2))\n",
    "    \n",
    "    return x_list, lamb_list, e_list\n",
    "\n",
    "# Compute the error of Rayleigh quotient methods with 10 iterations\n",
    "xl_rayleigh, lambl_rayleigh, el_rayleigh = rayleigh_iter(A, x, sigma_iter=.99, iteration=10)"
   ]
  },
  {
   "cell_type": "markdown",
   "metadata": {},
   "source": [
    "Then, we plot $\\log(e(k + 1))$ of three different algorithms."
   ]
  },
  {
   "cell_type": "code",
   "execution_count": 8,
   "metadata": {},
   "outputs": [
    {
     "data": {
      "image/png": "[encoded data removed]",
      "text/plain": [
       "<Figure size 518.4x388.8 with 1 Axes>"
      ]
     },
     "metadata": {},
     "output_type": "display_data"
    }
   ],
   "source": [
    "# Plot results\n",
    "matplotlib.rcParams.update({'font.size': 16})\n",
    "plt.style.use('seaborn-whitegrid')\n",
    "plt.figure(figsize=(7.2, 5.4))\n",
    "plt.plot(np.arange(len(el)) + 1, np.log(np.asarray(el)),\n",
    "         lw=2., color='#FF4500', label='PI')\n",
    "plt.plot(np.arange(len(el_shiftinv)) + 1, np.log(np.asarray(el_shiftinv)),\n",
    "         lw=2., color='#20B2AA', label='Shift-inverse-PI')\n",
    "plt.plot(np.arange(len(el_rayleigh)) + 1, np.log(np.asarray(el_rayleigh)),\n",
    "         lw=2., color='#1E90FF', label='Rayleigh')\n",
    "xlab = plt.xlabel('k')\n",
    "ylab = plt.ylabel('log(e(k + 1))')\n",
    "plgd = plt.legend(loc='best')"
   ]
  },
  {
   "cell_type": "markdown",
   "metadata": {},
   "source": [
    "As we can see, similar to the results in Example 7.1, the error of the power method decreases slowest with respect to  $k$. The error of the shift-inverse power method decreases more efficiency with respect to  $k$ than the normal power method. By Rayleigh quotient method, the error shrinks rapidly and gets a lower convergence.  "
   ]
  },
  {
   "cell_type": "markdown",
   "metadata": {},
   "source": [
    "## (d)"
   ]
  },
  {
   "cell_type": "markdown",
   "metadata": {},
   "source": [
    "Compute all the eigenvalues as folows. We just use the eigenvector computed with the last iteration of Shift Inverse Power Iterarion method and list the web pages as follow."
   ]
  },
  {
   "cell_type": "code",
   "execution_count": 9,
   "metadata": {
    "scrolled": true
   },
   "outputs": [
    {
     "name": "stdout",
     "output_type": "stream",
     "text": [
      "Greatest eigenvalue of the last iteration of Rayleigh: 1.00\n"
     ]
    }
   ],
   "source": [
    "lamb_final = lambl_shiftinv[-1]\n",
    "pagescore = xl_shiftinv[-1]\n",
    "pagescore = pagescore / pagescore.sum()\n",
    "\n",
    "print('Greatest eigenvalue of the last iteration of Rayleigh: {:.2f}'.format(lamb_final))"
   ]
  },
  {
   "cell_type": "code",
   "execution_count": 10,
   "metadata": {},
   "outputs": [
    {
     "name": "stdout",
     "output_type": "stream",
     "text": [
      "Top five Pagerank pairs:\n",
      "\n",
      "Page index:    2 with score: 6.75e-02\n",
      "url: http://www.hollins.edu/\n",
      "\n",
      "Page index:   35 with score: 5.79e-02\n",
      "url: http://www.hollins.edu/admissions/visit/visit.htm\n",
      "\n",
      "Page index:   36 with score: 5.41e-02\n",
      "url: http://www.hollins.edu/about/about_tour.htm\n",
      "\n",
      "Page index:   58 with score: 5.28e-02\n",
      "url: http://www.hollins.edu/htdig/index.html\n",
      "\n",
      "Page index:   49 with score: 4.79e-02\n",
      "url: http://www.hollins.edu/admissions/info-request/info-request.cfm\n",
      "\n",
      "Bottom five Pagerank pairs:\n",
      "\n",
      "Page index:  424\n",
      "url: http://www1.hollins.edu/homepages/hammerpw/qrhomepage.htm\n",
      "\n",
      "Page index:  987\n",
      "url: http://www1.hollins.edu/homepages/hammerpw/qrcourses2.htm\n",
      "\n",
      "Page index:  986\n",
      "url: http://www1.hollins.edu/homepages/hammerpw/qrcourses.htm\n",
      "\n",
      "Page index:  985\n",
      "url: http://www1.hollins.edu/homepages/hammerpw/qractivities.htm\n",
      "\n",
      "Page index:  930\n",
      "url: http://www1.hollins.edu/homepages/godardrd/homepage.htm\n",
      "\n"
     ]
    }
   ],
   "source": [
    "ind = np.argsort(pagescore, axis=0)\n",
    "\n",
    "\n",
    "print('Top five Pagerank pairs:\\n')\n",
    "for i in range(-1, -6, -1):\n",
    "    ind_i = ind[i].item()\n",
    "    print('Page index: {:4d} with score: {:.2e}'.format(ind_i + 1, pagescore[ind_i].item()))\n",
    "    print('url: {:s}\\n'.format(urls.iloc[ind_i][0]))\n",
    "\n",
    "print('Bottom five Pagerank pairs:\\n')\n",
    "for i in range(5):\n",
    "    ind_i = ind[i].item()\n",
    "    print('Page index: {:4d}'.format(ind_i + 1))\n",
    "    print('url: {:s}\\n'.format(urls.iloc[ind_i][0]))"
   ]
  },
  {
   "cell_type": "markdown",
   "metadata": {},
   "source": [
    "Since these pages has a number of sublinks that re-direct to themselves, *i.e.* they are most trustable, they have higher page scores, which seems consistent with my surmise."
   ]
  }
 ],
 "metadata": {
  "hide_input": false,
  "kernelspec": {
   "display_name": "Python 3",
   "language": "python",
   "name": "python3"
  },
  "language_info": {
   "codemirror_mode": {
    "name": "ipython",
    "version": 3
   },
   "file_extension": ".py",
   "mimetype": "text/x-python",
   "name": "python",
   "nbconvert_exporter": "python",
   "pygments_lexer": "ipython3",
   "version": "3.7.4"
  }
 },
 "nbformat": 4,
 "nbformat_minor": 2
}
