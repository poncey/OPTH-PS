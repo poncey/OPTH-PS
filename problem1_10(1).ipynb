{
 "cells": [
  {
   "cell_type": "markdown",
   "metadata": {},
   "source": [
    "# Problem 1.10\n",
    "\n",
    "##(a)\n",
    "\n",
    "Establish utilities for computing Gram-schmidt. "
   ]
  },
  {
   "cell_type": "code",
   "execution_count": 6,
   "metadata": {},
   "outputs": [],
   "source": [
    "import sympy as sp\n",
    "import numpy as np\n",
    "from sympy.abc import x\n",
    "\n",
    "lowerbound = -np.pi\n",
    "upperbound = np.pi\n",
    "\n",
    "def intgrt(f, upper, lower):\n",
    "    \n",
    "    F = sp.lambdify(x, sp.integrate(f, x), 'numpy')\n",
    "    \n",
    "    return F(upper) - F(lower)\n",
    "\n",
    "def inprod(f, g):\n",
    "    return intgrt(f * g , upperbound, lowerbound)\n",
    "\n",
    "def normf(f):\n",
    "    return np.sqrt(inprod(f, f))"
   ]
  },
  {
   "cell_type": "code",
   "execution_count": 5,
   "metadata": {},
   "outputs": [
    {
     "name": "stdout",
     "output_type": "stream",
     "text": [
      "Test inner product: 24.313442, Test normf: 1.772454\n"
     ]
    }
   ],
   "source": [
    "sx = sp.sin(x)\n",
    "v3 = x ** 3\n",
    "print('Test inner product: %f, Test normf: %f' %(inprod(sx, v3), normf(sx)))\n",
    "\n",
    "\n"
   ]
  },
  {
   "cell_type": "markdown",
   "metadata": {},
   "source": [
    "Computing Gram-Schmidt.\n",
    "\n",
    "for $\\left \\{ v^{(0)} \\ v^{(1)} \\ v^{(2)} \\ v^{(3)} \\ v^{(4)} \\ v^{(5)}\\right \\} = \\left \\{ 1 \\ x \\ x^{2}  \\ x^{3} \\ x^{4} \\ x^{5} \\right \\}$:\n",
    "\n",
    "$\\begin{matrix}\n",
    "e^{(0)} = \\frac{v^{(0)}}{\\left \\| v^{(0)} \\right \\|}\\\\ \n",
    "\\beta ^{(1)} = v^{(1)} - \\left \\langle v^{(1)}, e^{(0)} \\right \\rangle e^{(0)},e^{(1)}=\\frac{\\beta^{(1)}}{\\left \\| \\beta^{(1)} \\right \\|}\\\\ \n",
    "\\beta ^{(2)} = v^{(2)} - \\left \\langle v^{(2)}, e^{(1)} \\right \\rangle - \\left \\langle v^{(2)}, e^{(0)} \\right \\rangle,e^{(2)}=\\frac{\\beta^{(2)}}{\\left \\| \\beta^{(2)} \\right \\|}\\\\ \n",
    "\\beta ^{(3)} = v^{(3)} - \\left \\langle v^{(3)}, e^{(2)} \\right \\rangle - \\left \\langle v^{(3)}, e^{(1)} \\right \\rangle - \\left \\langle v^{(3)}, e^{(0)} \\right \\rangle,e^{(3)}=\\frac{\\beta^{(3)}}{\\left \\| \\beta^{(3)} \\right \\|}\\\\ \n",
    "\\beta ^{(4)} = v^{(4)} - \\left \\langle v^{(4)}, e^{(3)} \\right \\rangle - \\left \\langle v^{(4)}, e^{(2)} \\right \\rangle - \\left \\langle v^{(4)}, e^{(1)} \\right \\rangle - \\left \\langle v^{(4)}, e^{(0)} \\right \\rangle,e^{(4)}=\\frac{\\beta^{(4)}}{\\left \\| \\beta^{(4)} \\right \\|}\\\\\n",
    "\\beta ^{(5)} = v^{(5)} - \\left \\langle v^{(5)}, e^{(4)} \\right \\rangle - \\left \\langle v^{(5)}, e^{(3)} \\right \\rangle - \\left \\langle v^{(5)}, e^{(2)} \\right \\rangle - \\left \\langle v^{(5)}, e^{(1)} \\right \\rangle - \\left \\langle v^{(5)}, e^{(0)} \\right \\rangle ,e^{(5)}=\\frac{\\beta^{(5)}}{\\left \\| \\beta^{(5)} \\right \\|}\n",
    "\\end{matrix}$\n",
    "\n",
    "generally format:\n",
    "\n",
    "$$\\begin{matrix}\n",
    "e^{(0)} = \\frac{v^{(0)}}{\\left \\| v^{(0)} \\right \\|}\\\\ \\\\ \n",
    "\\beta ^{(k)} = v^{(k)} - \\left \\langle v^{(k)}, e^{(k-1)} \\right \\rangle e^{(k-1)} - \\left \\langle v^{(k)}, e^{(k-2)} \\right \\rangle e^{(k-2)}- ... -\\left \\langle v^{(k)}, e^{(1)} \\right \\rangle e^{(1)},\\ e^{(k)}=\\frac{\\beta^{(k)}}{\\left \\| \\beta^{(k)} \\right \\|}\\\\\n",
    "\\end{matrix}$$\n"
   ]
  },
  {
   "cell_type": "code",
   "execution_count": null,
   "metadata": {},
   "outputs": [],
   "source": [
    "v = [x ** i for i in range(0, 6)]\n",
    "\n",
    "def gram_schmidt(vcet):\n",
    "    "
   ]
  }
 ],
 "metadata": {
  "kernelspec": {
   "display_name": "Python 3",
   "language": "python",
   "name": "python3"
  },
  "language_info": {
   "codemirror_mode": {
    "name": "ipython",
    "version": 3
   },
   "file_extension": ".py",
   "mimetype": "text/x-python",
   "name": "python",
   "nbconvert_exporter": "python",
   "pygments_lexer": "ipython3",
   "version": "3.7.4"
  }
 },
 "nbformat": 4,
 "nbformat_minor": 2
}
